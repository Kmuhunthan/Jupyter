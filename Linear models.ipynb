{
 "cells": [
  {
   "cell_type": "markdown",
   "metadata": {
    "colab_type": "text",
    "id": "8Bb-CS27NWdS"
   },
   "source": [
    "## Background\n",
    "\n",
    "Environment and its changes are the most complex system. It is unarguably accepted that the temperature changes are greately affected by various environmental factors. Many of them are positively related to the  change, whereas, some have negative correlation. In this assesment task, you will analyse relationship among various environmental factors, which affect temperature.\n",
    "\n",
    "##The dataset\n",
    "\n",
    "**Dataset file name:** weather_dataset.csv\n",
    "\n",
    "**Dataset description:** The dataset contains total 10 features. Each row contains an hourly record of weather status and the data was recorded for the time period between 2006 and 2016.\n",
    "\n",
    "**Features and labels:** \n",
    "\n",
    "1.   recording_date_time (date_time): Date and time the data was recorded\n",
    "2.   precip_type (string): Precipitation status, blank (no value) indicates unknown status\n",
    "3.   temperature (float): Temperature in degree Celsius\n",
    "4.   apparent_temperature (float): Feel like temperature in degree Celsius\n",
    "5.   humidity (float): Percentage amount of water vapour in the air \n",
    "6.   wind_speed (float): Speed of the wind in km per hour\n",
    "7.   wind_bearing (int): The direction of wind in degree in geo-polar co-ordinate. Value 0 means perfect east, 90 means perfect north, 180 and 270 means west and south respectively.\n",
    "8.   visibility (float): Distance in km that is visible in naked eyes.\n",
    "9.   cloud_cover (float): The fraction of the sky obscured by clouds. The value is 1 if the observed area is fully cloudy, 0 if no clouds and other fractional value indicates the portion of the area covered by clouds.\n",
    "10.   pressure (float): Air pressure or atmospheric in milibars\n"
   ]
  },
  {
   "cell_type": "markdown",
   "metadata": {
    "colab_type": "text",
    "id": "TkUeSXbIODoE"
   },
   "source": [
    "##**Part 1: Linear Regression:**  **(25 marks)**\n",
    "\n",
    "\n",
    "1.   Load the dataset and split the data for training and testing - consider the data of last 2 years (2015 and 2016) for testing. Now exclude recording_date_time column from both training and test sets. Display the shape of training and test sets. **(3 marks)**"
   ]
  },
  {
   "cell_type": "code",
   "execution_count": 120,
   "metadata": {
    "colab": {},
    "colab_type": "code",
    "id": "KugpF4o5OKHD"
   },
   "outputs": [
    {
     "name": "stdout",
     "output_type": "stream",
     "text": [
      "testing data shape: (17544, 10)\n",
      "training data shape: (78909, 10)\n"
     ]
    },
    {
     "data": {
      "text/html": [
       "<div>\n",
       "<style scoped>\n",
       "    .dataframe tbody tr th:only-of-type {\n",
       "        vertical-align: middle;\n",
       "    }\n",
       "\n",
       "    .dataframe tbody tr th {\n",
       "        vertical-align: top;\n",
       "    }\n",
       "\n",
       "    .dataframe thead th {\n",
       "        text-align: right;\n",
       "    }\n",
       "</style>\n",
       "<table border=\"1\" class=\"dataframe\">\n",
       "  <thead>\n",
       "    <tr style=\"text-align: right;\">\n",
       "      <th></th>\n",
       "      <th>precip_type</th>\n",
       "      <th>temperature</th>\n",
       "      <th>apparent_temperature</th>\n",
       "      <th>humidity</th>\n",
       "      <th>wind_speed</th>\n",
       "      <th>wind_bearing</th>\n",
       "      <th>visibility</th>\n",
       "      <th>cloud_cover</th>\n",
       "      <th>pressure</th>\n",
       "      <th>year</th>\n",
       "    </tr>\n",
       "  </thead>\n",
       "  <tbody>\n",
       "    <tr>\n",
       "      <th>0</th>\n",
       "      <td>rain</td>\n",
       "      <td>9.47</td>\n",
       "      <td>7.39</td>\n",
       "      <td>0.89</td>\n",
       "      <td>14.12</td>\n",
       "      <td>251</td>\n",
       "      <td>15.83</td>\n",
       "      <td>0</td>\n",
       "      <td>1015.13</td>\n",
       "      <td>2006</td>\n",
       "    </tr>\n",
       "    <tr>\n",
       "      <th>1</th>\n",
       "      <td>rain</td>\n",
       "      <td>9.36</td>\n",
       "      <td>7.23</td>\n",
       "      <td>0.86</td>\n",
       "      <td>14.26</td>\n",
       "      <td>259</td>\n",
       "      <td>15.83</td>\n",
       "      <td>0</td>\n",
       "      <td>1015.63</td>\n",
       "      <td>2006</td>\n",
       "    </tr>\n",
       "    <tr>\n",
       "      <th>2</th>\n",
       "      <td>rain</td>\n",
       "      <td>9.38</td>\n",
       "      <td>9.38</td>\n",
       "      <td>0.89</td>\n",
       "      <td>3.93</td>\n",
       "      <td>204</td>\n",
       "      <td>14.96</td>\n",
       "      <td>0</td>\n",
       "      <td>1015.94</td>\n",
       "      <td>2006</td>\n",
       "    </tr>\n",
       "    <tr>\n",
       "      <th>3</th>\n",
       "      <td>rain</td>\n",
       "      <td>8.29</td>\n",
       "      <td>5.94</td>\n",
       "      <td>0.83</td>\n",
       "      <td>14.10</td>\n",
       "      <td>269</td>\n",
       "      <td>15.83</td>\n",
       "      <td>0</td>\n",
       "      <td>1016.41</td>\n",
       "      <td>2006</td>\n",
       "    </tr>\n",
       "    <tr>\n",
       "      <th>4</th>\n",
       "      <td>rain</td>\n",
       "      <td>8.76</td>\n",
       "      <td>6.98</td>\n",
       "      <td>0.83</td>\n",
       "      <td>11.04</td>\n",
       "      <td>259</td>\n",
       "      <td>15.83</td>\n",
       "      <td>0</td>\n",
       "      <td>1016.51</td>\n",
       "      <td>2006</td>\n",
       "    </tr>\n",
       "    <tr>\n",
       "      <th>...</th>\n",
       "      <td>...</td>\n",
       "      <td>...</td>\n",
       "      <td>...</td>\n",
       "      <td>...</td>\n",
       "      <td>...</td>\n",
       "      <td>...</td>\n",
       "      <td>...</td>\n",
       "      <td>...</td>\n",
       "      <td>...</td>\n",
       "      <td>...</td>\n",
       "    </tr>\n",
       "    <tr>\n",
       "      <th>78904</th>\n",
       "      <td>rain</td>\n",
       "      <td>21.23</td>\n",
       "      <td>21.23</td>\n",
       "      <td>0.72</td>\n",
       "      <td>3.08</td>\n",
       "      <td>250</td>\n",
       "      <td>10.26</td>\n",
       "      <td>0</td>\n",
       "      <td>1014.11</td>\n",
       "      <td>2014</td>\n",
       "    </tr>\n",
       "    <tr>\n",
       "      <th>78905</th>\n",
       "      <td>rain</td>\n",
       "      <td>19.22</td>\n",
       "      <td>19.22</td>\n",
       "      <td>0.82</td>\n",
       "      <td>0.23</td>\n",
       "      <td>290</td>\n",
       "      <td>10.22</td>\n",
       "      <td>0</td>\n",
       "      <td>1014.73</td>\n",
       "      <td>2014</td>\n",
       "    </tr>\n",
       "    <tr>\n",
       "      <th>78906</th>\n",
       "      <td>rain</td>\n",
       "      <td>17.29</td>\n",
       "      <td>17.29</td>\n",
       "      <td>0.87</td>\n",
       "      <td>3.22</td>\n",
       "      <td>200</td>\n",
       "      <td>16.05</td>\n",
       "      <td>0</td>\n",
       "      <td>1015.00</td>\n",
       "      <td>2014</td>\n",
       "    </tr>\n",
       "    <tr>\n",
       "      <th>78907</th>\n",
       "      <td>rain</td>\n",
       "      <td>16.69</td>\n",
       "      <td>16.69</td>\n",
       "      <td>0.87</td>\n",
       "      <td>0.00</td>\n",
       "      <td>0</td>\n",
       "      <td>15.13</td>\n",
       "      <td>0</td>\n",
       "      <td>1015.21</td>\n",
       "      <td>2014</td>\n",
       "    </tr>\n",
       "    <tr>\n",
       "      <th>78908</th>\n",
       "      <td>rain</td>\n",
       "      <td>16.77</td>\n",
       "      <td>16.77</td>\n",
       "      <td>0.93</td>\n",
       "      <td>2.79</td>\n",
       "      <td>160</td>\n",
       "      <td>14.36</td>\n",
       "      <td>0</td>\n",
       "      <td>1015.18</td>\n",
       "      <td>2014</td>\n",
       "    </tr>\n",
       "  </tbody>\n",
       "</table>\n",
       "<p>78909 rows × 10 columns</p>\n",
       "</div>"
      ],
      "text/plain": [
       "      precip_type  temperature  apparent_temperature  humidity  wind_speed  \\\n",
       "0            rain         9.47                  7.39      0.89       14.12   \n",
       "1            rain         9.36                  7.23      0.86       14.26   \n",
       "2            rain         9.38                  9.38      0.89        3.93   \n",
       "3            rain         8.29                  5.94      0.83       14.10   \n",
       "4            rain         8.76                  6.98      0.83       11.04   \n",
       "...           ...          ...                   ...       ...         ...   \n",
       "78904        rain        21.23                 21.23      0.72        3.08   \n",
       "78905        rain        19.22                 19.22      0.82        0.23   \n",
       "78906        rain        17.29                 17.29      0.87        3.22   \n",
       "78907        rain        16.69                 16.69      0.87        0.00   \n",
       "78908        rain        16.77                 16.77      0.93        2.79   \n",
       "\n",
       "       wind_bearing  visibility  cloud_cover  pressure  year  \n",
       "0               251       15.83            0   1015.13  2006  \n",
       "1               259       15.83            0   1015.63  2006  \n",
       "2               204       14.96            0   1015.94  2006  \n",
       "3               269       15.83            0   1016.41  2006  \n",
       "4               259       15.83            0   1016.51  2006  \n",
       "...             ...         ...          ...       ...   ...  \n",
       "78904           250       10.26            0   1014.11  2014  \n",
       "78905           290       10.22            0   1014.73  2014  \n",
       "78906           200       16.05            0   1015.00  2014  \n",
       "78907             0       15.13            0   1015.21  2014  \n",
       "78908           160       14.36            0   1015.18  2014  \n",
       "\n",
       "[78909 rows x 10 columns]"
      ]
     },
     "execution_count": 120,
     "metadata": {},
     "output_type": "execute_result"
    }
   ],
   "source": [
    "#Reference: https://www.geeksforgeeks.org/convert-the-column-type-from-string-to-datetime-format-in-pandas-dataframe/\n",
    "#https://stackoverflow.com/questions/35595710/splitting-timestamp-column-into-separate-date-and-time-columns\n",
    "#https://stackoverflow.com/questions/38481409/pandas-deleting-row-with-df-drop-doesnt-work\n",
    "#https://stackoverflow.com/questions/25146121/extracting-just-month-and-year-separately-from-pandas-datetime-column\n",
    "\n",
    "import pandas as pd\n",
    "\n",
    "#Read the weather data as a dataframe as df_weather\n",
    "df_weather = pd.read_csv('weather_dataset.csv')\n",
    "#drop null values \n",
    "df_weather.dropna()\n",
    "\n",
    "#converting the format of recorded date and time \n",
    "df_weather['recording_date_time']= pd.to_datetime(df_weather['recording_date_time']) \n",
    "\n",
    "\n",
    "df_weather['new_date'] = [d.date() for d in df_weather['recording_date_time']]\n",
    "\n",
    "#df_weather.set_index(['new_date'])\n",
    "\n",
    "#df_weather['new_date']= pd.to_datetime(df_weather['new_date'])\n",
    "\n",
    "#Creates a new column names year \n",
    "\n",
    "df_weather['year'] = pd.DatetimeIndex(df_weather['new_date']).year\n",
    "\n",
    "df_weather = df_weather.drop(['new_date','recording_date_time'],axis = 1)\n",
    "\n",
    "\n",
    "df_test = df_weather.loc[(df_weather['year'] >= 2015) & (df_weather['year'] <= 2016)]\n",
    "df_train = df_weather.loc[(df_weather['year'] >= 2006) & (df_weather['year'] <= 2014)]\n",
    "\n",
    "\n",
    "#The shape of test and train data\n",
    "print('testing data shape:', df_test.shape)\n",
    "print('training data shape:', df_train.shape)\n",
    "#df_train\n",
    "\n",
    "#The shapes are inclusive of the year column "
   ]
  },
  {
   "cell_type": "markdown",
   "metadata": {
    "colab_type": "text",
    "id": "tir1JyxlOVQf"
   },
   "source": [
    "2.  Consider the 'temperature' as the target. List the insignificant features for predicting temperature, if any. Explain your findings. **(5 marks)**\n",
    "<br/><font color='green'>**[Hint for students: See the \"7.3 Relevance and Covariance among features or variables\" for more information.]** <font/>"
   ]
  },
  {
   "cell_type": "code",
   "execution_count": 122,
   "metadata": {
    "colab": {},
    "colab_type": "code",
    "id": "hMLc-93uOMhY"
   },
   "outputs": [
    {
     "name": "stdout",
     "output_type": "stream",
     "text": [
      "['rain' 'snow']\n",
      "Pearson correlation between precipitation type and temperature (-0.5783945936557476, 0.0)\n",
      "Pearson correlation between humidity and temperature (-0.6316348195850396, 0.0)\n",
      "Pearson correlation between wind speed and temperature (0.010945498975510361, 0.002107033107880756)\n",
      "Pearson correlation between wind bearing and temperature (0.029771023758958636, 6.030691705702169e-17)\n",
      "Pearson correlation between visibility and temperature (0.37115355299518865, 0.0)\n",
      "Pearson correlation between cloud cover and temperature (nan, nan)\n",
      "Pearson correlation between pressure and temperature (-0.010479972997426043, 0.0032406619314269175)\n",
      "Pearson correlation between apparent temperature and temperature (0.9924134287248878, 0.0)\n"
     ]
    },
    {
     "name": "stderr",
     "output_type": "stream",
     "text": [
      "/opt/anaconda3/lib/python3.7/site-packages/ipykernel_launcher.py:18: SettingWithCopyWarning: \n",
      "A value is trying to be set on a copy of a slice from a DataFrame.\n",
      "Try using .loc[row_indexer,col_indexer] = value instead\n",
      "\n",
      "See the caveats in the documentation: https://pandas.pydata.org/pandas-docs/stable/user_guide/indexing.html#returning-a-view-versus-a-copy\n"
     ]
    }
   ],
   "source": [
    "'''\n",
    "Reference:https://machinelearningmastery.com/how-to-use-correlation-to-understand-the-relationship-between-variables/\n",
    "\n",
    "'''\n",
    "\n",
    "import numpy as np\n",
    "from scipy import stats\n",
    "from sklearn.preprocessing import LabelEncoder \n",
    "\n",
    "#setting temperature as y variable and storing it as y_train\n",
    "y_train = df_train['temperature']\n",
    "\n",
    "\n",
    "df_weather['precip_type'].unique() #rain/snow\n",
    "\n",
    "#initializing an object of class LabelEncoder\n",
    "labelencoder= LabelEncoder() \n",
    "df_train['precip_type'] = labelencoder.fit_transform(df_train['precip_type'])\n",
    "df_train.head()\n",
    "\n",
    "#defining x_train with the possible features for predicting temperature \n",
    "features_col = ['precip_type', 'humidity', 'wind_speed','wind_bearing','visibility', 'cloud_cover', 'pressure', 'apparent_temperature']\n",
    "x_train = df_train[features_col]\n",
    "\n",
    "\n",
    "\n",
    "print('Pearson correlation between precipitation type and temperature', stats.pearsonr(x_train['precip_type'],y_train))\n",
    "print('Pearson correlation between humidity and temperature', stats.pearsonr(x_train['humidity'],y_train))\n",
    "print('Pearson correlation between wind speed and temperature', stats.pearsonr(x_train['wind_speed'],y_train))\n",
    "print('Pearson correlation between wind bearing and temperature', stats.pearsonr(x_train['wind_bearing'],y_train))\n",
    "print('Pearson correlation between visibility and temperature', stats.pearsonr(x_train['visibility'],y_train))\n",
    "print('Pearson correlation between cloud cover and temperature', stats.pearsonr(x_train['cloud_cover'],y_train))\n",
    "print('Pearson correlation between pressure and temperature', stats.pearsonr(x_train['pressure'],y_train))\n",
    "print('Pearson correlation between apparent temperature and temperature', stats.pearsonr(x_train['apparent_temperature'],y_train))\n",
    "\n",
    "'''\n",
    "Pearson correlation has a value between +1 and −1 where 1 indicates total positive linear correlation, \n",
    "0 is no linear correlation, and −1 shows total negative linear correlation.More than 0.5 is a strong relationsip, \n",
    "+/- signs represent either positive or negative relationship\n",
    "humidity and precipitation have strong negative relationship\n",
    "wind speed and wind bearing have almost zero relationship\n",
    "Apparent temperature has a very strong positive relationship with temperature, visibility has a positive \n",
    "relationship with temperature but it is not strong as it is's coefficient is below 0.5\n",
    "\n",
    "Therefore the insignificant features are wind_speed, wind_bearing,cloud cover, visibility and pressure\n",
    "'''\n",
    "\n",
    "#selecting only the significant features from the list of features\n",
    "features = ['precip_type', 'humidity', 'apparent_temperature']\n",
    "#selecting only the significant features as x_train\n",
    "x_train = x_train[features]\n"
   ]
  },
  {
   "cell_type": "markdown",
   "metadata": {
    "colab_type": "text",
    "id": "_mC_pm60V4VB"
   },
   "source": [
    "3.  Now create a linear model considering the 'temperature' as the target variable and other columns as features (you can optionally remove non-contributing features). Show the test performance (as Mean Absolute Error, MAE) of the model. **(5 marks)**"
   ]
  },
  {
   "cell_type": "code",
   "execution_count": 109,
   "metadata": {
    "colab": {},
    "colab_type": "code",
    "id": "wUIhRhssWq8h"
   },
   "outputs": [
    {
     "name": "stdout",
     "output_type": "stream",
     "text": [
      "____MSE for prediction using train data______\n",
      "MSE : 1.2142256609602575\n",
      "The mean absolute error:  0.8403283929201261\n",
      "Error : 1.2142256609602604\n",
      "____MSE for prediction using test data______\n",
      "MSE : 0.9453236601477598\n",
      "Error : 0.9453236601477591\n",
      "the mean absolute error:  0.763528356708432\n"
     ]
    },
    {
     "name": "stderr",
     "output_type": "stream",
     "text": [
      "/opt/anaconda3/lib/python3.7/site-packages/ipykernel_launcher.py:14: SettingWithCopyWarning: \n",
      "A value is trying to be set on a copy of a slice from a DataFrame.\n",
      "Try using .loc[row_indexer,col_indexer] = value instead\n",
      "\n",
      "See the caveats in the documentation: https://pandas.pydata.org/pandas-docs/stable/user_guide/indexing.html#returning-a-view-versus-a-copy\n",
      "  \n"
     ]
    }
   ],
   "source": [
    "from sklearn.linear_model import LinearRegression as LR\n",
    "import sklearn.metrics as skm\n",
    "import matplotlib.pyplot as plt\n",
    "from sklearn.metrics import mean_absolute_error\n",
    "\n",
    "#Creating an instanc eof the linearregression model as LR\n",
    "my_model = LR(normalize = True)\n",
    "my_model.fit(x_train, y_train)\n",
    "\n",
    "\n",
    "#defining the x_test and y_test inorder to measure the accuracy and model performance \n",
    "y_test = df_test['temperature']\n",
    "#label encoding the precipitation\n",
    "df_test['precip_type'] = labelencoder.fit_transform(df_test['precip_type'])\n",
    "print(df_test.unique())\n",
    "x_test = df_test[features]\n",
    "\n",
    "#making predictions for x_train\n",
    "prediction_train = my_model.predict(x_train)\n",
    "\n",
    "#Predicting for x_test\n",
    "prediction_test = my_model.predict(x_test)\n",
    "\n",
    "\n",
    "\n",
    "\n",
    "print('____MSE for prediction using train data______')\n",
    "mse = np.mean((prediction_train - y_train)**2)\n",
    "print('MSE : {}'.format(mse))\n",
    "\n",
    "print('The mean absolute error: ',mean_absolute_error(y_train,prediction_train))\n",
    "\n",
    "mse = np.mean((prediction_train - y_train)**2)\n",
    "error = skm.mean_squared_error(y_train,prediction_train)\n",
    "print('Error : {}'.format(error))\n",
    "\n",
    "\n",
    "print('____MSE for prediction using test data______')\n",
    "\n",
    "mse = np.mean((prediction_test - y_test)**2)\n",
    "print('MSE : {}'.format(mse))\n",
    "\n",
    "error = skm.mean_squared_error(y_test,prediction_test)\n",
    "print('Error : {}'.format(error))\n",
    "\n",
    "print('the mean absolute error: ',mean_absolute_error(y_test,prediction_test))\n",
    "\n",
    "\n",
    "'''\n",
    "\n",
    "The mean ansolute error and error values are calculated for test and train dataset. \n",
    "The lower the error, better the model is\n",
    "\n",
    "'''\n"
   ]
  },
  {
   "cell_type": "markdown",
   "metadata": {
    "colab_type": "text",
    "id": "v428CdiaOaad"
   },
   "source": [
    "4.   Find the feature which shows maximum correlation with \"pressure\". Create a linear regression model to predict temperature using these two features ('pressure' and the one which shows maximum correlation). Compare the performance of this simplified model with the model developed in the previous question (Q-3). Explain the performance variation, if any. **(6 marks)**"
   ]
  },
  {
   "cell_type": "code",
   "execution_count": 110,
   "metadata": {
    "colab": {},
    "colab_type": "code",
    "id": "aKsPiuGCOM5F"
   },
   "outputs": [
    {
     "name": "stderr",
     "output_type": "stream",
     "text": [
      "/opt/anaconda3/lib/python3.7/site-packages/scipy/stats/stats.py:3508: PearsonRConstantInputWarning: An input array is constant; the correlation coefficent is not defined.\n",
      "  warnings.warn(PearsonRConstantInputWarning())\n"
     ]
    },
    {
     "name": "stdout",
     "output_type": "stream",
     "text": [
      "Pearson correlation between precipitation type and pressure (0.018171701427370946, 3.30957133333246e-07)\n",
      "Pearson correlation between humidity and pressure (0.005328463297895491, 0.13444739015582227)\n",
      "Pearson correlation between wind speed and pressure (-0.04685806400546434, 1.3093551116819807e-39)\n",
      "Pearson correlation between wind bearing and pressure (-0.010980012964251004, 0.0020395518427171314)\n",
      "Pearson correlation between visibility and pressure (0.051819067919959105, 4.6272725107294055e-48)\n",
      "Pearson correlation between cloud cover and pressure (nan, nan)\n",
      "Pearson correlation between Temperature and pressure (-0.010479972997426043, 0.0032406619314269175)\n",
      "Pearson correlation between apparent temperature and pressure (-0.005677422768029853, 0.11075294382504122)\n",
      "____MSE for prediction using train data______\n",
      "MSE : 79.82820602382482\n",
      "Error : 79.8282060238251\n",
      "The mean absolute error:  7.233248435527314\n",
      "____MSE for prediction using test data______\n"
     ]
    },
    {
     "data": {
      "image/png": "[encoded data removed]",
      "text/plain": [
       "<Figure size 432x288 with 1 Axes>"
      ]
     },
     "metadata": {
      "needs_background": "light"
     },
     "output_type": "display_data"
    },
    {
     "name": "stdout",
     "output_type": "stream",
     "text": [
      "MSE : 64.76742909841282\n",
      "Error : 64.7674290984127\n",
      "The mean absolute error:  6.498840791843139\n"
     ]
    },
    {
     "data": {
      "text/plain": [
       "'\\nWe can see that the mean absolute error values have largely increased compared to the previous scenario, \\nwhich can be due to the unsuitability of features as strong predictors for temperature. \\nPressure is a weak predictor for temperature\\n'"
      ]
     },
     "execution_count": 110,
     "metadata": {},
     "output_type": "execute_result"
    }
   ],
   "source": [
    "\n",
    "\n",
    "#Assigning pressure as the response variable\n",
    "y = df_train['pressure']\n",
    "\n",
    "#Assigning the possible predictor variables to x\n",
    "feature = ['precip_type', 'humidity', 'wind_speed','wind_bearing','visibility', 'cloud_cover', 'temperature', 'apparent_temperature']\n",
    "x = df_train[feature]\n",
    "\n",
    "#Calculating the pearson correlation of each predictor variable and the response variable\n",
    "print('Pearson correlation between precipitation type and pressure', stats.pearsonr(x['precip_type'],y))\n",
    "print('Pearson correlation between humidity and pressure', stats.pearsonr(x['humidity'],y))\n",
    "print('Pearson correlation between wind speed and pressure', stats.pearsonr(x['wind_speed'],y))\n",
    "print('Pearson correlation between wind bearing and pressure', stats.pearsonr(x['wind_bearing'],y))\n",
    "print('Pearson correlation between visibility and pressure', stats.pearsonr(x['visibility'],y))\n",
    "print('Pearson correlation between cloud cover and pressure', stats.pearsonr(x['cloud_cover'],y))\n",
    "print('Pearson correlation between Temperature and pressure', stats.pearsonr(x['temperature'],y))\n",
    "print('Pearson correlation between apparent temperature and pressure', stats.pearsonr(x['apparent_temperature'],y))\n",
    "\n",
    "\n",
    "'''\n",
    "from the pearson correlation in overall none of the variables that have strog relationship with pressure. \n",
    "Among all visibility has highest score for correlation among all variables\n",
    "Therefore we consider visibility as the significant feature in predicting pressure\n",
    "\n",
    "'''\n",
    "\n",
    "#Assigning pressure and visibility as the features for predicting temperature\n",
    "features = ['pressure', 'visibility']\n",
    "x = df_train[features]\n",
    "\n",
    "y = df_train['temperature']\n",
    "\n",
    "#Defining the linear regression model\n",
    "my_model = LR(normalize = True)\n",
    "my_model.fit(x,y)\n",
    "\n",
    "\n",
    "\n",
    "\n",
    "print('____MSE for prediction using train data______')\n",
    "\n",
    "pred_y = my_model.predict(x)\n",
    "\n",
    "mse = np.mean((pred_y - y)**2)\n",
    "print('MSE : {}'.format(mse))\n",
    "\n",
    "error = skm.mean_squared_error(y,pred_y)\n",
    "print('Error : {}'.format(error))\n",
    "\n",
    "print('The mean absolute error: ',mean_absolute_error(y,pred_y))\n",
    "\n",
    "\n",
    "print('____MSE for prediction using test data______')\n",
    "\n",
    "y_test = df_test['temperature']\n",
    "x_test = df_test[features]\n",
    "\n",
    "prediction = my_model.predict(x_test)\n",
    "\n",
    "plt.plot(y_test,prediction,'ok')\n",
    "plt.ylabel('Predicted temperature')\n",
    "plt.xlabel('Actual temperature')\n",
    "plt.show()\n",
    "\n",
    "mse = np.mean((prediction - y_test)**2)\n",
    "print('MSE : {}'.format(mse))\n",
    "\n",
    "error = skm.mean_squared_error(y_test,prediction)\n",
    "print('Error : {}'.format(error))\n",
    "\n",
    "print('The mean absolute error: ',mean_absolute_error(y_test,prediction))\n",
    "\n",
    "\n",
    "'''\n",
    "We can see that the mean absolute error values have largely increased compared to the previous scenario, \n",
    "which can be due to the unsuitability of features as strong predictors for temperature. \n",
    "Pressure is a weak predictor for temperature\n",
    "'''"
   ]
  },
  {
   "cell_type": "markdown",
   "metadata": {
    "colab_type": "text",
    "id": "0-jv9d7oOtHe"
   },
   "source": [
    "5. Apportion the complete dataset into training and test sets, with an 40-60 split. **(6 marks)**\n",
    "\n",
    "  (a)  Train a linear regression model without considering overfitting scenario and report the test performance. \n",
    "  \n",
    "  (b) Create an optimal regularised linear regression model and report the test performance.\n",
    "  \n",
    "  (c) Explain the reason behind the performance variation, if any.\n"
   ]
  },
  {
   "cell_type": "code",
   "execution_count": 111,
   "metadata": {
    "colab": {},
    "colab_type": "code",
    "id": "jNk_egyXONc2"
   },
   "outputs": [
    {
     "name": "stdout",
     "output_type": "stream",
     "text": [
      "(38581, 10)\n",
      "(57872, 10)\n",
      "The mean absolute error value:  1.1722656820669037\n",
      "The mean absolute error:  0.828153578084607\n",
      "_________________part b__________________\n",
      "0.0005\n",
      "0.0001\n",
      "-0.82175272533844\n",
      "The mean absolute error value:  1.1835967050229537\n",
      "The mean absolute error:  0.8259711289878146\n"
     ]
    },
    {
     "data": {
      "text/plain": [
       "'\\nThere is no change in mean absolute error after optimising the linear regression model. \\n\\nTherefore it proves that there is no room for any overfitting of the data. \\n\\n\\n'"
      ]
     },
     "execution_count": 111,
     "metadata": {},
     "output_type": "execute_result"
    }
   ],
   "source": [
    "#Reference: https://towardsdatascience.com/how-to-perform-lasso-and-ridge-regression-in-python-3b3b75541ad8\n",
    "\n",
    "from sklearn.model_selection import train_test_split\n",
    "from sklearn.metrics import accuracy_score\n",
    "from sklearn.linear_model import Lasso\n",
    "from sklearn.model_selection import GridSearchCV\n",
    "import numpy as np\n",
    "\n",
    "\n",
    "\n",
    "#a) Training a linear regression model and reporting the test performance\n",
    "\n",
    "labelencoder= LabelEncoder() #initializing an object of class LabelEncoder\n",
    "df_weather['precip_type'] = labelencoder.fit_transform(df_weather['precip_type'])\n",
    "\n",
    "\n",
    "dtrain,dtest = train_test_split(df_weather, test_size = 0.60, random_state=42)\n",
    "\n",
    "print(dtrain.shape)\n",
    "print(dtest.shape)\n",
    "\n",
    "\n",
    "my_model = LR(normalize = True)\n",
    "features = ['precip_type', 'humidity', 'apparent_temperature']\n",
    "\n",
    "#Defining x_train and y_train\n",
    "x_train = dtrain[features]\n",
    "y_train = dtrain['temperature']\n",
    "\n",
    "#defining x_test and y_test\n",
    "x_test = dtest[features]\n",
    "y_test = dtest['temperature'].values\n",
    "\n",
    "#model fitting \n",
    "my_model.fit(x_train, y_train)\n",
    "\n",
    "#Prediction using the linear regression model\n",
    "\n",
    "pred_test = my_model.predict(x_test)\n",
    "\n",
    "\n",
    "#Finding the mean square error of the model prediction\n",
    "mse=np.mean((pred_test-y_test)**2)\n",
    "print('The mean absolute error value: ',mse)\n",
    "\n",
    "#Finding the mean absolute error\n",
    "print('The mean absolute error: ',mean_absolute_error(y_test,pred_test))\n",
    "\n",
    "print('_________________part b__________________')\n",
    "\n",
    "#b)creating an optimised linear regressional model\n",
    "\n",
    "\n",
    "#Hyperparameter tuning for Lasso optimised model using gridsearch method\n",
    "#I have used different values of alpha and tolerance levels. \n",
    "\n",
    "alphas = np.array([5, 0.5, 0.05, 0.005, 0.0005, 1, 0.1, 0.01,0.001, 0.0001])\n",
    "tol = np.array([0.1,0.001, 0.01, 0.0001, 0.02])\n",
    "\n",
    "lassoreg=Lasso(alpha=0.0001,normalize=True, max_iter=1e5,tol=0.0001)\n",
    "\n",
    "grid = GridSearchCV(estimator=lassoreg, param_grid=dict(alpha=alphas, tol = tol), scoring = 'neg_mean_absolute_error')\n",
    "\n",
    "grid.fit(x_train, y_train)\n",
    "\n",
    "print(grid.best_estimator_.alpha) #0.0005\n",
    "print(grid.best_estimator_.tol)#0.0001\n",
    "print(grid.best_score_)\n",
    "\n",
    "\n",
    "#Fitting the best hyperparameters on Lasso \n",
    "\n",
    "lassoreg=Lasso(alpha=0.0005,normalize=True, max_iter=1e5, tol=0.0001)\n",
    "lassoreg.fit(x_train, y_train)\n",
    "\n",
    "\n",
    "#Prediction using the linear regression model\n",
    "\n",
    "pred_test_lassoreg = lassoreg.predict(x_test)\n",
    "\n",
    "#Finding the mean square error of the model prediction\n",
    "mse=np.mean((pred_test_lassoreg-y_test)**2)\n",
    "print('The mean absolute error value: ',mse)\n",
    "#Finding the mean absolute error\n",
    "print('The mean absolute error: ',mean_absolute_error(y_test,pred_test_lassoreg))\n",
    "\n",
    "\n",
    "'''\n",
    "There is no change in mean absolute error after optimising the linear regression model(Lasso). \n",
    "\n",
    "Therefore it proves that there is no room for any overfitting of the model. \n",
    "\n",
    "\n",
    "'''\n"
   ]
  },
  {
   "cell_type": "markdown",
   "metadata": {
    "colab_type": "text",
    "id": "CtcCZwIMOxwi"
   },
   "source": [
    "##**Part 2: Logistic Regression:**  **(9 marks)**\n",
    "\n",
    "\n",
    "1.  Can the same target (temperature, mentioned in Part-1) be used for logistic regression? Why? **(2 marks)**"
   ]
  },
  {
   "cell_type": "code",
   "execution_count": 112,
   "metadata": {
    "colab": {},
    "colab_type": "code",
    "id": "knM4rfghOORu"
   },
   "outputs": [
    {
     "data": {
      "text/plain": [
       "'\\nTemperature cannot be used as the target variable for logistic regression becuase, logistic \\nregression uses a logistic function to model a binary dependent variable.\\n\\nSince temperature is a numeric continuous variable it cannot be used there. \\n\\nVariables like precipitation type is binary (snow/rain) which is suitable for logistic regression\\n\\n'"
      ]
     },
     "execution_count": 112,
     "metadata": {},
     "output_type": "execute_result"
    }
   ],
   "source": [
    "'''\n",
    "Temperature cannot be used as the target variable for logistic regression becuase, logistic \n",
    "regression uses a logistic function to model a binary dependent variable.\n",
    "\n",
    "Since temperature is a numeric continuous variable it cannot be used there. \n",
    "\n",
    "Variables like precipitation type is binary (snow/rain) which is suitable for logistic regression\n",
    "\n",
    "'''"
   ]
  },
  {
   "cell_type": "markdown",
   "metadata": {
    "colab_type": "text",
    "id": "a5w0t5-To1nB"
   },
   "source": [
    "2.  Split the dataset as 70-30% for training and testing. Create a logistic regression model to predict the 'precip_type'. Report the prediction accuracy of your model whether the \"precip_type\" is \"rain\" or not (use decision threshold of 0.45). **(5 marks)**\n",
    "\n"
   ]
  },
  {
   "cell_type": "code",
   "execution_count": 113,
   "metadata": {
    "colab": {},
    "colab_type": "code",
    "id": "vzRgiUq9wEHY"
   },
   "outputs": [
    {
     "name": "stdout",
     "output_type": "stream",
     "text": [
      "(67517, 10)\n",
      "(28936, 10)\n",
      "Model Accuracy is:0.9854160906828864\n",
      "Model Coeff:[ 3.00043509e-03 -1.14668897e+00  2.71821186e-01 -1.12677805e-01\n",
      "  7.08289211e-02 -2.32225311e-04 -3.12715099e-02  0.00000000e+00\n",
      "  4.15710350e-04]\n"
     ]
    }
   ],
   "source": [
    "from sklearn.linear_model import LogisticRegression\n",
    "from sklearn.metrics import accuracy_score\n",
    "\n",
    "\n",
    "dtrain,dtest = train_test_split(df_weather, test_size = 0.30)\n",
    "\n",
    "print(dtrain.shape)\n",
    "print(dtest.shape)\n",
    "\n",
    "#Define the x_train and y_train\n",
    "y_train = dtrain['precip_type']\n",
    "\n",
    "print(y_train.unique())\n",
    "\n",
    "features_lr = ['temperature', 'apparent_temperature','humidity','wind_speed','wind_bearing','visibility','cloud_cover','pressure']\n",
    "x_train = dtrain[features_lr]\n",
    "\n",
    "#Define x_test and y_test\n",
    "\n",
    "y_test = dtest['precip_type']\n",
    "x_test = dtest[features_lr]\n",
    "\n",
    "\n",
    "#Initialise logistic regression model. \n",
    "lambda_val=0.1\n",
    "#Initialize the Logitic regression model with l2 penalty\n",
    "lr=LogisticRegression(C=1/lambda_val, penalty='l2')\n",
    "lr.fit(x_train, y_train)\n",
    "\n",
    "#Prediction with logistic regression model\n",
    "threshold = 0.45\n",
    "y_predict = np.where(lr.predict_proba(x_test)[:,1] > 0.45, 1, 0)\n",
    "                     \n",
    "                     \n",
    "model_acc=accuracy_score(y_predict, y_test)\n",
    "print(\"Model Accuracy is:{}\".format(model_acc))\n",
    "print(\"Model Coeff:{}\".format(np.append(lr.intercept_, lr.coef_)))\n"
   ]
  },
  {
   "cell_type": "markdown",
   "metadata": {
    "colab_type": "text",
    "id": "Yn7--XRkrIK9"
   },
   "source": [
    " 3.  Discuss the test performance using precision, recall and confusion matrix. **(2 marks)**"
   ]
  },
  {
   "cell_type": "code",
   "execution_count": 117,
   "metadata": {
    "colab": {},
    "colab_type": "code",
    "id": "7GpmkeRLOOkM"
   },
   "outputs": [
    {
     "name": "stdout",
     "output_type": "stream",
     "text": [
      "              precision    recall  f1-score   support\n",
      "\n",
      "           0       0.99      0.99      0.99     25512\n",
      "           1       0.94      0.93      0.94      3424\n",
      "\n",
      "    accuracy                           0.99     28936\n",
      "   macro avg       0.97      0.96      0.96     28936\n",
      "weighted avg       0.99      0.99      0.99     28936\n",
      "\n",
      "[[25316   196]\n",
      " [  226  3198]]\n"
     ]
    },
    {
     "data": {
      "image/png": "[encoded data removed]",
      "text/plain": [
       "<Figure size 432x288 with 2 Axes>"
      ]
     },
     "metadata": {
      "needs_background": "light"
     },
     "output_type": "display_data"
    },
    {
     "data": {
      "text/plain": [
       "'\\n\\nRecall the number of True Positives divided by the number of True Positives and the number of False Negatives. \\nPrecision is the number of True Positives divided by the number of True Positives and False Positives.\\nThe F1 Score is the 2*((precision*recall)/(precision+recall)). It is also called the F Score or the F Measure. Put another way, the F1 score conveys the balance between the precision and the recall.\\n\\n\\nIn our task, the weighted average of precision, recall and f1 score are 0.98, that is higher they are better the model performance will be.\\n\\nAnd all the above paramters are measures based of test dataset\\n\\n'"
      ]
     },
     "execution_count": 117,
     "metadata": {},
     "output_type": "execute_result"
    }
   ],
   "source": [
    "#Classification report\n",
    "from sklearn.metrics import classification_report\n",
    "from sklearn.metrics import confusion_matrix\n",
    "from sklearn.metrics import plot_confusion_matrix\n",
    "\n",
    "print(classification_report(y_predict, y_test))\n",
    "\n",
    "print(confusion_matrix(y_predict, y_test))\n",
    "\n",
    "\n",
    "class_names = [\"Rain\", \"Snow\"]\n",
    " \n",
    "\n",
    "display = plot_confusion_matrix(lr, x_test, y_test,\n",
    "                              display_labels=class_names,\n",
    "                              cmap=plt.cm.Blues)\n",
    "display.ax_.set_title(\"Confusion Matrix\")\n",
    "plt.show()\n",
    "\n",
    "'''\n",
    "\n",
    "Recall the number of True Positives divided by the number of True Positives and the number of False Negatives. \n",
    "Precision is the number of True Positives divided by the number of True Positives and False Positives.\n",
    "The F1 Score is the 2*((precision*recall)/(precision+recall)). It is also called the F Score or the F Measure. Put another way, the F1 score conveys the balance between the precision and the recall.\n",
    "\n",
    "\n",
    "In our task, the weighted average of precision, recall and f1 score are 0.99, that is higher they are better the model performance will be.\n",
    "\n",
    "And all the above paramters are measures based of test dataset\n",
    "\n",
    "'''"
   ]
  },
  {
   "cell_type": "markdown",
   "metadata": {
    "colab_type": "text",
    "id": "uJZCDkQcH_k6"
   },
   "source": [
    "##**Part 3: Objective function optimisation:**  **(6 marks)**"
   ]
  },
  {
   "cell_type": "markdown",
   "metadata": {
    "colab_type": "text",
    "id": "7DrSojxhXpwL"
   },
   "source": [
    "Let’s consider the line graphs shown below and answer the following questions [Hint: See weekly content 7.4-7.10],"
   ]
  },
  {
   "cell_type": "markdown",
   "metadata": {
    "colab_type": "text",
    "id": "_eGL6Jz_KJdH"
   },
   "source": [
    "<html>&nbsp;&nbsp;&nbsp;&nbsp;&nbsp;&nbsp;&nbsp;&nbsp;&nbsp;&nbsp;&nbsp;&nbsp;&nbsp;&nbsp;&nbsp;&nbsp;&nbsp;&nbsp;&nbsp;&nbsp;&nbsp;&nbsp;&nbsp;&nbsp;&nbsp;(a)&nbsp;&nbsp;&nbsp;&nbsp;&nbsp;&nbsp;&nbsp;&nbsp;&nbsp;&nbsp;&nbsp;&nbsp;&nbsp;&nbsp;&nbsp;&nbsp;&nbsp;&nbsp;&nbsp;&nbsp;&nbsp;&nbsp;&nbsp;&nbsp;&nbsp;&nbsp;&nbsp;&nbsp;&nbsp;&nbsp;&nbsp;&nbsp;&nbsp;&nbsp;&nbsp;&nbsp;&nbsp;&nbsp;&nbsp;&nbsp;&nbsp;&nbsp;&nbsp;&nbsp;&nbsp;&nbsp;&nbsp;&nbsp;&nbsp;&nbsp;&nbsp;&nbsp;&nbsp;&nbsp;&nbsp;&nbsp;&nbsp;&nbsp;&nbsp;&nbsp;(b)</html>\n",
    "\n",
    "![image.png](data:image/png;base64,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)\n",
    "\n",
    "\n"
   ]
  },
  {
   "cell_type": "markdown",
   "metadata": {
    "colab_type": "text",
    "id": "iBRBSZiqKzLh"
   },
   "source": [
    "\n",
    "a.  Which of the above figures represents the convex objective function and why? (**1 marks**)\n",
    "\n",
    "b.  Which hyper-parameter can help to reach the convergence point and the impact of value selection? (**2 marks**)\n",
    "\n",
    "c.  How can we find the global minima for the objective function shown in Figure-b? _[N.B. Conceptual description will be accepted.]_ (**3 marks**)"
   ]
  },
  {
   "cell_type": "code",
   "execution_count": null,
   "metadata": {},
   "outputs": [],
   "source": [
    "'''\n",
    "1. The figure (a) represents the convex objective function because it has a global minimum which is easy to identify\n",
    "\n",
    "2. The learning rate is a hyperparameter which defines how quickly a network updates its parameters.\n",
    "Low learning rate slows down the learning process but converges smoothly. Larger learning rate speeds up the learning \n",
    "but may not converge.Usually a decaying Learning rate is preferred. \n",
    "\n",
    "3. \n",
    "\n",
    "The central problem of optimization is minimization of functions. \n",
    "Gradient descent is an efficient optimization algorithm that attempts to find a local or global minimum of the cost function.\n",
    "\n",
    "The lowest point in the entire graph is the global minimum, which is what stochastic gradient descent attempts to find. \n",
    "Stochastic gradient descent attempts to find the global minimum by adjusting the configuration of the network after each training point.\n",
    "Instead of decreasing the error, or finding the gradient,  for the entire data set, this method merely decreases the error by approximating the gradient for a randomly selected batch.\n",
    "\n",
    "Other methods like Newtons method and saddle free newton's method can be used to find the global minima. \n",
    "\n",
    "\n",
    "\n",
    "Reference: https://towardsdatascience.com/what-are-hyperparameters-and-how-to-tune-the-hyperparameters-in-a-deep-neural-network-d0604917584a\n",
    "http://web.cs.iastate.edu/~cs577/handouts/nonlinear-program.pdf\n",
    "https://towardsdatascience.com/minimizing-the-cost-function-gradient-descent-a5dd6b5350e1\n",
    "https://www.cs.ubc.ca/labs/lci/mlrg/slides/non_convex_optimization.pdf\n",
    "http://www.math.ubc.ca/~CLP/CLP1/clp_1_dc/ssec_find_maxmin.html\n",
    "https://deepai.org/machine-learning-glossary-and-terms/stochastic-gradient-descent#:~:text=The%20lowest%20point%20in%20the,network%20after%20each%20training%20point.\n",
    "\n",
    "'''"
   ]
  }
 ],
 "metadata": {
  "colab": {
   "collapsed_sections": [],
   "name": "A3.ipynb",
   "provenance": []
  },
  "kernelspec": {
   "display_name": "Python 3",
   "language": "python",
   "name": "python3"
  },
  "language_info": {
   "codemirror_mode": {
    "name": "ipython",
    "version": 3
   },
   "file_extension": ".py",
   "mimetype": "text/x-python",
   "name": "python",
   "nbconvert_exporter": "python",
   "pygments_lexer": "ipython3",
   "version": "3.7.6"
  }
 },
 "nbformat": 4,
 "nbformat_minor": 4
}
