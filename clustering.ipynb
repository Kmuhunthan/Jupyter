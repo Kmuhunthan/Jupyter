{
 "cells": [
  {
   "cell_type": "markdown",
   "metadata": {
    "colab_type": "text",
    "id": "oYFXM_D7HCHb"
   },
   "source": [
    "## Part 1: Clustering *(15 marks)*\n",
    "\n",
    "Let's assume you want to design an environment to predict a class/category from a dataset based on specific features of that class. However, all the features are not strong enough or in other words features not that much variance/uniqueness across the classes. So, you have to design a clustering model by answering the following questions:\n",
    "\n",
    "1. Download the attached clustering.csv file. Read the file and separate the class and feature matrix. __(2 marks)__"
   ]
  },
  {
   "cell_type": "code",
   "execution_count": 196,
   "metadata": {
    "colab": {
     "base_uri": "https://localhost:8080/",
     "height": 176
    },
    "colab_type": "code",
    "id": "crKN9O9jKi4w",
    "outputId": "7d68e88f-f758-44a6-c807-35e8048c3223"
   },
   "outputs": [
    {
     "name": "stdout",
     "output_type": "stream",
     "text": [
      "   height  length   width    std    min    max  kurtosis  Class\n",
      "0   15.26   14.84  0.8710  5.763  3.312  2.221     5.220      0\n",
      "1   14.88   14.57  0.8811  5.554  3.333  1.018     4.956      0\n",
      "2   14.29   14.09  0.9050  5.291  3.337  2.699     4.825      0\n",
      "3   13.84   13.94  0.8955  5.324  3.379  2.259     4.805      0\n",
      "4   16.14   14.99  0.9034  5.658  3.562  1.355     5.175      0\n",
      "(210, 8)\n",
      "(210,)\n",
      "(210, 7)\n"
     ]
    }
   ],
   "source": [
    "import pandas as pd\n",
    "import numpy as np\n",
    "import matplotlib.pyplot as plt\n",
    "\n",
    "\n",
    "#Reading the CSV file and storing as a dataframe\n",
    "df_clustering = pd.read_csv('clustering.csv')\n",
    "print(df_clustering.head())\n",
    "print(df_clustering.shape)\n",
    "\n",
    "#Splitting the class and feature matrix\n",
    "Class = df_clustering.iloc[:,-1].values\n",
    "features = df_clustering.iloc[:,:7].values\n",
    "print(Class.shape)\n",
    "print(features.shape)"
   ]
  },
  {
   "cell_type": "markdown",
   "metadata": {
    "colab_type": "text",
    "id": "3CYvoztIKjoq"
   },
   "source": [
    "2. Determine the number of clusters from the dataset. Is this same as the actual number of classes in the dataset? __(1 marks)__\n",
    "\n",
    "<!-- Choose the best three features using different selection criteria (ANOVA, Chi-squared) based on the purity score for the k-mean cluster (Euclidean distance matrix). Which one is good and why? __(5 marks)__ -->"
   ]
  },
  {
   "cell_type": "code",
   "execution_count": 197,
   "metadata": {
    "colab": {
     "base_uri": "https://localhost:8080/",
     "height": 371
    },
    "colab_type": "code",
    "id": "WFia7uNt5POP",
    "outputId": "527086e9-ca75-4c29-cc7d-06f142dd3433"
   },
   "outputs": [
    {
     "data": {
      "image/png": "[encoded data removed]",
      "text/plain": [
       "<Figure size 432x288 with 1 Axes>"
      ]
     },
     "metadata": {
      "needs_background": "light"
     },
     "output_type": "display_data"
    },
    {
     "name": "stdout",
     "output_type": "stream",
     "text": [
      "[0 0 0 0 0 0 0 0 0 0 0 0 0 0 0 0 0 0 0 0 0 0 0 0 0 0 0 0 0 0 0 0 0 0 0 0 0\n",
      " 0 0 0 0 0 0 0 0 0 0 0 0 0 0 0 0 0 0 0 0 0 0 0 0 0 0 0 0 0 0 0 0 0 1 1 1 1\n",
      " 1 1 1 1 1 1 1 1 1 1 1 1 1 1 1 1 1 1 1 1 1 1 1 1 1 1 1 1 1 1 1 1 1 1 1 1 1\n",
      " 1 1 1 1 1 1 1 1 1 1 1 1 1 1 1 1 1 1 1 1 1 1 1 1 1 1 1 1 1 2 2 2 2 2 2 2 2\n",
      " 2 2 2 2 2 2 2 2 2 2 2 2 2 2 2 2 2 2 2 2 2 2 2 2 2 2 2 2 2 2 2 2 2 2 2 2 2\n",
      " 2 2 2 2 2 2 2 2 2 2 2 2 2 2 2 2 2 2 2 2 2 2 2 2 2]\n",
      "The optimum number of clusters for the given dataset is 3 from the elbow plot\n"
     ]
    },
    {
     "data": {
      "image/png": "[encoded data removed]",
      "text/plain": [
       "<Figure size 432x288 with 1 Axes>"
      ]
     },
     "metadata": {
      "needs_background": "light"
     },
     "output_type": "display_data"
    }
   ],
   "source": [
    "#https://towardsdatascience.com/k-means-clustering-with-scikit-learn-6b47a369a83c\n",
    "from sklearn.cluster import KMeans\n",
    "#Plotting a scatter diagram to identify the number of clusters in features\n",
    "plt.scatter(Class, features[:,0])\n",
    "plt.show()\n",
    "#There are 3 clusters identified with features\n",
    "\n",
    "print(Class)\n",
    "#Class has 3 clusters (0,1,2)\n",
    "\n",
    "\n",
    "#Elbow plot is another methode in determining the number of clusters \n",
    "totSqrdDist=[]\n",
    "\n",
    "kRange=range(1,15)\n",
    "\n",
    "for k in kRange:\n",
    "    kmns=KMeans(n_clusters=k)\n",
    "    kmns=kmns.fit(features)\n",
    "    totSqrdDist.append(kmns.inertia_)\n",
    "\n",
    "    \n",
    "plt.plot(kRange,totSqrdDist,'-xk')\n",
    "plt.ylabel('Sum of squared distance')\n",
    "\n",
    "print('The optimum number of clusters for the given dataset is 3 from the elbow plot')\n",
    "\n",
    "#the number of clusters in the dataset is as same as the number of classes\n"
   ]
  },
  {
   "cell_type": "markdown",
   "metadata": {
    "colab_type": "text",
    "id": "lomdzPf33Ga8"
   },
   "source": [
    "3. Perform K-Means clustering on the complete dataset and report purity score. __(2 marks)__ "
   ]
  },
  {
   "cell_type": "code",
   "execution_count": 198,
   "metadata": {
    "colab": {
     "base_uri": "https://localhost:8080/",
     "height": 194
    },
    "colab_type": "code",
    "id": "UaI08RF5KoPK",
    "outputId": "cc8f1a05-5abf-4e17-8715-6e17e0d67642"
   },
   "outputs": [
    {
     "name": "stdout",
     "output_type": "stream",
     "text": [
      "[[14.64847222 14.46041667  0.87916667  5.56377778  3.27790278  2.64893333\n",
      "   5.19231944]\n",
      " [11.96441558 13.27480519  0.8522      5.22928571  2.87292208  4.75974026\n",
      "   5.08851948]\n",
      " [18.72180328 16.29737705  0.88508689  6.20893443  3.72267213  3.60359016\n",
      "   6.06609836]]\n",
      "[0 0 0 0 0 0 0 0 0 0 0 0 0 0 0 0 1 0 0 1 0 0 0 0 0 0 1 0 0 0 0 0 0 0 0 0 0\n",
      " 2 0 1 0 0 0 0 0 0 0 0 0 0 0 0 0 0 0 0 0 0 0 0 1 1 1 1 0 0 0 0 0 1 2 2 2 2\n",
      " 2 2 2 2 2 2 2 2 2 2 2 2 2 2 2 2 2 2 2 2 2 2 2 2 2 2 0 2 2 2 2 2 2 2 2 2 2\n",
      " 2 2 2 2 2 2 2 2 2 2 2 0 2 0 2 2 2 2 2 2 2 0 0 0 0 2 0 0 0 1 1 1 1 1 1 1 1\n",
      " 1 1 1 1 1 1 1 1 1 1 1 1 1 1 1 1 1 1 1 1 1 1 1 1 1 1 1 1 1 1 1 0 1 1 1 1 1\n",
      " 1 1 1 1 1 1 1 1 1 1 1 1 1 1 1 1 0 1 1 1 1 1 1 1 1]\n",
      "The purity score(%) of clustering is :  89.52\n"
     ]
    }
   ],
   "source": [
    "'''\n",
    "https://scikit-learn.org/stable/modules/clustering.html#clustering-performance-evaluation\n",
    "https://stackoverflow.com/questions/34047540/python-clustering-purity-metric\n",
    "  \n",
    "'''\n",
    "from sklearn import metrics\n",
    "\n",
    "\n",
    "km = KMeans(\n",
    "    n_clusters=3, init='random',\n",
    "    n_init=10, max_iter=300, \n",
    "    tol=1e-04, random_state=0\n",
    ")\n",
    "\n",
    "y = km.fit(features)\n",
    "\n",
    "#Calculated clusters for the features\n",
    "y_km = km.fit_predict(features)\n",
    "\n",
    "\n",
    "#Print the cluster centers\n",
    "print(km.cluster_centers_) \n",
    "print(km.labels_)\n",
    "\n",
    "\n",
    "#Computing the purity based on the predicted labels and the actual labels in Class\n",
    "def purity_score_(Class, y_km):\n",
    "    # compute contingency matrix (also called confusion matrix)\n",
    "    contingency_matrix = metrics.cluster.contingency_matrix(Class, y_km)\n",
    "    #print(contingency_matrix)\n",
    "    # return purity\n",
    "    return np.sum(np.amax(contingency_matrix, axis=0)) / np.sum(contingency_matrix) \n",
    "\n",
    "print('The purity score(%) of clustering is : ', round(purity_score_(Class, y_km)*100,2))\n",
    "\n"
   ]
  },
  {
   "cell_type": "markdown",
   "metadata": {
    "colab_type": "text",
    "id": "CsImMLOzK1dV"
   },
   "source": [
    "4. There are several distance metrics for  K-Means such as euclidean, squared euclidean, Manhattan, Chebyshev, Minkowski. [ __Hints:__ See the pyclustering library for python.]\n",
    "    - Your job is to compare the purity score of k-means clustering for different distance metrics. __(5 marks)__ \n",
    "    - Select the best distance metric and explain why this distance metric is best for the given dataset. __(2 marks)__ "
   ]
  },
  {
   "cell_type": "code",
   "execution_count": 218,
   "metadata": {
    "colab": {
     "base_uri": "https://localhost:8080/",
     "height": 87
    },
    "colab_type": "code",
    "id": "nzj4REd_OWfR",
    "outputId": "cda8368c-fa74-4f9d-c4d9-23396a4d3aa3"
   },
   "outputs": [
    {
     "name": "stdout",
     "output_type": "stream",
     "text": [
      "Requirement already satisfied: pyclustering in /opt/anaconda3/lib/python3.7/site-packages (0.10.0.1)\n",
      "Requirement already satisfied: Pillow in /opt/anaconda3/lib/python3.7/site-packages (from pyclustering) (7.0.0)\n",
      "Requirement already satisfied: scipy in /opt/anaconda3/lib/python3.7/site-packages (from pyclustering) (1.4.1)\n",
      "Requirement already satisfied: numpy in /opt/anaconda3/lib/python3.7/site-packages (from pyclustering) (1.18.1)\n",
      "Requirement already satisfied: matplotlib in /opt/anaconda3/lib/python3.7/site-packages (from pyclustering) (3.1.3)\n",
      "Requirement already satisfied: kiwisolver>=1.0.1 in /opt/anaconda3/lib/python3.7/site-packages (from matplotlib->pyclustering) (1.1.0)\n",
      "Requirement already satisfied: python-dateutil>=2.1 in /opt/anaconda3/lib/python3.7/site-packages (from matplotlib->pyclustering) (2.8.1)\n",
      "Requirement already satisfied: cycler>=0.10 in /opt/anaconda3/lib/python3.7/site-packages (from matplotlib->pyclustering) (0.10.0)\n",
      "Requirement already satisfied: pyparsing!=2.0.4,!=2.1.2,!=2.1.6,>=2.0.1 in /opt/anaconda3/lib/python3.7/site-packages (from matplotlib->pyclustering) (2.4.6)\n",
      "Requirement already satisfied: setuptools in /opt/anaconda3/lib/python3.7/site-packages (from kiwisolver>=1.0.1->matplotlib->pyclustering) (46.0.0.post20200309)\n",
      "Requirement already satisfied: six>=1.5 in /opt/anaconda3/lib/python3.7/site-packages (from python-dateutil>=2.1->matplotlib->pyclustering) (1.14.0)\n",
      "The purity score(%) of clustering with euclidean distance metric is:  90.48\n",
      "The % purity score using Manhattan distance metric is:  89.05\n",
      "The % purity score using Minkowski distance metric is:  90.48\n",
      "The %purity score using squared euclidean distance metric is:  89.52\n",
      "The %purity score using Chebyshev distance metric is:  87.62\n",
      "Based on the results comparison, the distance metric which gives the highest purity of clusters can be chosen as the best,therefore,euclidean metric which gives 90.48% purity score can be considered as the best distant metric to determine the purity\n"
     ]
    }
   ],
   "source": [
    "'''\n",
    "https://github.com/annoviko/pyclustering/issues/471 \n",
    "https://pyclustering.github.io/docs/0.8.2/html/da/d22/classpyclustering_1_1cluster_1_1kmeans_1_1kmeans.html\n",
    "\n",
    "'''\n",
    "\n",
    "!pip install pyclustering\n",
    "\n",
    "from pyclustering.cluster.kmeans import kmeans\n",
    "from pyclustering.cluster.center_initializer import kmeans_plusplus_initializer\n",
    "from pyclustering.utils.metric import distance_metric, type_metric\n",
    "\n",
    " \n",
    "                                                                                 \n",
    "# Prepare initial centers using K-Means++ method.\n",
    "initial_centers = kmeans_plusplus_initializer(features, 3).initialize()\n",
    "\n",
    "#Kmean clustering with EUCLIDEAN metric\n",
    "euclidean_metric = distance_metric(type_metric.EUCLIDEAN)\n",
    "#Initialise the model\n",
    "kmeans_ = kmeans(features, initial_centers, metric=euclidean_metric)\n",
    "#Run the cluster analysis and get the clusters\n",
    "kmeans_euclidean_ = kmeans_.process()\n",
    "kmeans_euclidean_vals = kmeans_euclidean_.predict(features)\n",
    "\n",
    "print('The purity score(%) of clustering with euclidean distance metric is: ', round(purity_score_(Class, kmeans_euclidean_vals)*100,2))\n",
    "\n",
    "\n",
    "\n",
    "#Implement kmean clustering with Manhattan distance metric\n",
    "Manhattan_metric = distance_metric(type_metric.MANHATTAN)\n",
    "kmeans_instance_manhattan = kmeans(features, initial_centers, metric=Manhattan_metric)\n",
    "#Run the cluster analysis and obtain the results\n",
    "kmeans_instance_manhattan = kmeans_instance_manhattan.process()\n",
    "cluster_manhattan = kmeans_instance_manhattan.predict(features)\n",
    "\n",
    "print(\"The % purity score using Manhattan distance metric is: \", round(purity_score_(Class,cluster_manhattan) *100,2))\n",
    "\n",
    "\n",
    "\n",
    "#kmean clustering with Minkowski distance metric\n",
    "minkowski_metric = distance_metric(type_metric.MINKOWSKI, degree = 4)\n",
    "kmeans_instance_minkowski = kmeans(features, initial_centers, metric=minkowski_metric)\n",
    "#Run the cluster analysis and obtain the results\n",
    "kmeans_instance_minkowski = kmeans_instance_minkowski.process()\n",
    "cluster_minkowski = kmeans_instance_minkowski.predict(features)\n",
    "\n",
    "print(\"The % purity score using Minkowski distance metric is: \", round(purity_score_(Class,cluster_minkowski)*100,2))\n",
    "\n",
    "\n",
    "\n",
    "#kmean clustering with squared euclidean distance metric\n",
    "euclidean_sq_metric = distance_metric(type_metric.EUCLIDEAN_SQUARE)\n",
    "kmeans_instance_eucli_sq = kmeans(features, initial_centers, metric=euclidean_sq_metric)\n",
    "#Run the cluster analysis and obtain the results\n",
    "kmeans_instance_eucli_sq = kmeans_instance_eucli_sq.process()\n",
    "cluster_sq_euclidean = kmeans_instance_eucli_sq.predict(features)\n",
    "\n",
    "print(\"The %purity score using squared euclidean distance metric is: \", round(purity_score_(Class,cluster_sq_euclidean) *100,2))\n",
    "\n",
    "\n",
    "#kmean clustering with Chebyshev distance metric\n",
    "chebyshev_metric = distance_metric(type_metric.CHEBYSHEV)\n",
    "\n",
    "kmeans_instance_chebyshev = kmeans(features, initial_centers, metric=chebyshev_metric)\n",
    "\n",
    "#Run the cluster analysis and obtain the results\n",
    "kmeans_instance_chebyshev = kmeans_instance_chebyshev.process()\n",
    "\n",
    "cluster_chebyshev = kmeans_instance_chebyshev.predict(features)\n",
    "\n",
    "print(\"The %purity score using Chebyshev distance metric is: \", round(purity_score_(Class,cluster_chebyshev)*100,2))\n",
    "\n",
    "print('Based on the results comparison, the distance metric which gives the highest purity of clusters can be chosen as the best,therefore,euclidean metric which gives 90.48% purity score can be considered as the best distant metric to determine the purity') \n"
   ]
  },
  {
   "cell_type": "markdown",
   "metadata": {
    "colab_type": "text",
    "id": "xsG5SQti4b7E"
   },
   "source": [
    "5. Use selection criteria (ANOVA, Chi-squared) to select best three features and use them for K-Means clustering. Based on the purity score which feature set are you going to recommend and why? __(3 marks)__"
   ]
  },
  {
   "cell_type": "code",
   "execution_count": 226,
   "metadata": {
    "colab": {
     "base_uri": "https://localhost:8080/",
     "height": 70
    },
    "colab_type": "code",
    "id": "9lCTzujBKpL4",
    "outputId": "5e8388e7-3c34-47d8-ad5f-edb5510d1eac",
    "scrolled": true
   },
   "outputs": [
    {
     "name": "stdout",
     "output_type": "stream",
     "text": [
      "Reduced number of features: 3\n",
      "     height  length    max\n",
      "0     15.26   14.84  2.221\n",
      "1     14.88   14.57  1.018\n",
      "2     14.29   14.09  2.699\n",
      "3     13.84   13.94  2.259\n",
      "4     16.14   14.99  1.355\n",
      "..      ...     ...    ...\n",
      "205   12.19   13.20  3.631\n",
      "206   11.23   12.88  4.325\n",
      "207   13.20   13.66  8.315\n",
      "208   11.84   13.21  3.598\n",
      "209   12.30   13.34  5.637\n",
      "\n",
      "[210 rows x 3 columns]\n",
      "The purity score(%) of clustering using Chi square is  :  89.52\n",
      "Reduced number of features using ANOVA is : 3\n",
      "     height  length    min\n",
      "0     15.26   14.84  3.312\n",
      "1     14.88   14.57  3.333\n",
      "2     14.29   14.09  3.337\n",
      "3     13.84   13.94  3.379\n",
      "4     16.14   14.99  3.562\n",
      "..      ...     ...    ...\n",
      "205   12.19   13.20  2.981\n",
      "206   11.23   12.88  2.795\n",
      "207   13.20   13.66  3.232\n",
      "208   11.84   13.21  2.836\n",
      "209   12.30   13.34  2.974\n",
      "\n",
      "[210 rows x 3 columns]\n",
      "The purity score(%) of clustering using ANOVA methos is  :  84.29\n",
      "Based on the purity scores, Chi square method accounts for the highest purity.Therefore the three features that are selected are height, length and min\n"
     ]
    }
   ],
   "source": [
    "from sklearn.feature_selection import chi2, f_classif\n",
    "from sklearn.feature_selection import SelectKBest\n",
    " #https://chrisalbon.com/machine_learning/feature_selection/chi-squared_for_feature_selection/\n",
    " #https://scikit-learn.org/stable/modules/generated/sklearn.feature_selection.f_classif.html\n",
    "\n",
    "\n",
    "#Chi square to select the best 3 features\n",
    "chi2_selector = SelectKBest(chi2, k=3)\n",
    "X_kbest = chi2_selector.fit_transform(features, Class)\n",
    "X_kbest = pd.DataFrame(X_kbest, columns= ['height', 'length', 'max'])\n",
    "print('Reduced number of features:', X_kbest.shape[1])\n",
    "print(X_kbest)\n",
    "\n",
    "#Fit to the kmeans algorithm\n",
    "y_chi2 = km.fit(X_kbest)\n",
    "\n",
    "#Calculated clusters for the features\n",
    "y_chi2_km = km.fit_predict(X_kbest)\n",
    "\n",
    "\n",
    "print('The purity score(%) of clustering using Chi square is  : ', round(purity_score_(Class, y_chi2_km)*100,2))\n",
    "\n",
    "#ANOVA to select the best 3 features\n",
    "ANOVA_selector = SelectKBest(f_classif, k=3)\n",
    "f_kbest = ANOVA_selector.fit_transform(features, Class)\n",
    "f_kbest = pd.DataFrame(f_kbest,columns= ['height', 'length', 'min'])\n",
    "print('Reduced number of features using ANOVA is :', f_kbest.shape[1])\n",
    "print(f_kbest)\n",
    "#Fit to the kmeans algorithm\n",
    "y_ANOVA = km.fit(f_kbest)\n",
    "\n",
    "#Calculated clusters for the features\n",
    "y_ANOVA_km = km.fit_predict(f_kbest)\n",
    "\n",
    "print('The purity score(%) of clustering using ANOVA methos is  : ', round(purity_score_(Class, y_ANOVA_km)*100,2))\n",
    "\n",
    "\n",
    "print('Based on the purity scores, Chi square method accounts for the highest purity.Therefore the three features that are selected are height, length and min')"
   ]
  },
  {
   "cell_type": "markdown",
   "metadata": {
    "colab_type": "text",
    "id": "Key1p4RKLEW9"
   },
   "source": [
    "# Part-2 (Dimensionality Reduction using PCA/SVD) *(15 marks)*\n",
    "\n",
    "1. For the dataset (clustering.csv), perform PCA.\n",
    "    - plot the captured variance with respect to increasing latent dimensionality. __(2.5 marks)__\n",
    "  \n",
    "  What is the minimum dimension that captures:\n",
    "    - at least 89% variance? __(1.5 marks)__\n",
    "    - at least 99% variance? __(1 marks)__"
   ]
  },
  {
   "cell_type": "code",
   "execution_count": 228,
   "metadata": {
    "colab": {
     "base_uri": "https://localhost:8080/",
     "height": 1000
    },
    "colab_type": "code",
    "id": "EkJU33yYKpen",
    "outputId": "6a29798c-df9f-4157-e1eb-fd47469451df"
   },
   "outputs": [
    {
     "name": "stdout",
     "output_type": "stream",
     "text": [
      "[7.187e+01 1.711e+01 9.690e+00 9.800e-01 2.700e-01 8.000e-02 1.000e-02]\n",
      "[ 71.87  88.98  98.67  99.65  99.92 100.   100.01]\n"
     ]
    },
    {
     "data": {
      "image/png": "[encoded data removed]",
      "text/plain": [
       "<Figure size 432x288 with 1 Axes>"
      ]
     },
     "metadata": {
      "needs_background": "light"
     },
     "output_type": "display_data"
    },
    {
     "name": "stdout",
     "output_type": "stream",
     "text": [
      "minimum dimension that can capture 89 percent variance is : 3\n",
      "minimum dimension that can capture 99 percent variance is : 4\n"
     ]
    }
   ],
   "source": [
    "from sklearn.preprocessing import scale\n",
    "from sklearn.decomposition import PCA\n",
    "\n",
    "#normalise the data \n",
    "df_norm = scale(features)\n",
    "\n",
    "pca = PCA(n_components = 7)\n",
    "\n",
    "df_pca = pca.fit(df_norm)\n",
    "\n",
    "\n",
    "#The amount of variance in each pc\n",
    "var = df_pca.explained_variance_ratio_\n",
    "print(np.round(var*100,2))\n",
    "\n",
    "#cumulative variance explains\n",
    "var1 = np.cumsum(np.round(df_pca.explained_variance_ratio_, decimals=4)*100)\n",
    "print(var1)\n",
    "\n",
    "#Plot showing the captured variance with respect to increasing latent dimensionality\n",
    "plt.plot(var1)\n",
    "plt.xlabel('Principal components')\n",
    "plt.ylabel('Variance')\n",
    "plt.grid()\n",
    "plt.show()\n",
    "\n",
    "\n",
    "\n",
    "pca_var89 = PCA(n_components= 0.89)\n",
    "pca_89 = pca_var89.fit_transform(df_norm)\n",
    "print(\"minimum dimension that can capture 89 percent variance is :\" , pca_89.shape[1])\n",
    "\n",
    "pca_var99 = PCA(n_components= 0.99)\n",
    "pca_99 = pca_var99.fit_transform(df_norm)\n",
    "print(\"minimum dimension that can capture 99 percent variance is :\",pca_99.shape[1])\n",
    "\n"
   ]
  },
  {
   "cell_type": "markdown",
   "metadata": {},
   "source": [
    "1. Determine the purity of clusters formed by the number of principal components which captured 89% and 99% variances respectively. Plot a line graph of the purity scores against the captured variances. Discuss your findings. (7 marks)"
   ]
  },
  {
   "cell_type": "code",
   "execution_count": 241,
   "metadata": {
    "colab": {
     "base_uri": "https://localhost:8080/",
     "height": 70
    },
    "colab_type": "code",
    "id": "8_a-xp2PKpya",
    "outputId": "bb6d7426-660a-4e59-d791-e9159b240002"
   },
   "outputs": [
    {
     "name": "stdout",
     "output_type": "stream",
     "text": [
      "Purity score of clusters formed by 89% var is:  0.9095238095238095\n",
      "--------------------------------------------------\n",
      "[0 0 0 0 0 0 0 0 2 0 0 0 0 0 0 0 0 0 0 1 0 0 0 0 0 0 0 0 0 0 0 0 0 0 0 0 0\n",
      " 2 0 0 0 0 0 0 0 0 0 0 0 0 0 0 0 0 0 0 0 0 0 1 1 1 0 1 0 0 0 0 0 1 2 2 2 2\n",
      " 2 2 2 2 2 2 2 2 2 2 2 2 2 2 2 2 2 2 2 2 2 2 2 2 2 2 2 2 2 2 2 2 2 2 2 2 2\n",
      " 2 2 2 2 2 2 2 2 2 2 2 2 2 0 2 2 2 2 2 2 2 0 2 2 0 2 0 0 2 1 1 1 1 1 1 1 1\n",
      " 1 1 1 1 1 1 1 1 1 1 1 1 1 1 1 1 1 0 1 1 1 1 1 1 1 1 1 1 1 1 1 1 1 1 1 1 1\n",
      " 1 1 1 1 1 1 1 1 1 1 1 1 0 1 0 1 0 1 1 1 1 1 1 1 1]\n",
      "Purity score of clusters formed by 99% var is:  0.919047619047619\n"
     ]
    },
    {
     "data": {
      "image/png": "[encoded data removed]",
      "text/plain": [
       "<Figure size 432x288 with 1 Axes>"
      ]
     },
     "metadata": {
      "needs_background": "light"
     },
     "output_type": "display_data"
    },
    {
     "name": "stdout",
     "output_type": "stream",
     "text": [
      "from the graph we can determine the purity score is high with the captured variance, so that we can see at 99% variance the purity is highest at 91.9% and therefore we can use the highest variance of 99% for the hghest purity scores\n"
     ]
    }
   ],
   "source": [
    "##https://sbrouil.github.io/ml-sandbox/MNIST+Kaggle+Digit+clusterization+using+KMeans.html\n",
    "\n",
    "\n",
    "#At 89%\n",
    "kmeans_89 = KMeans(n_clusters = 3).fit(pca_89)\n",
    "labels_89  = kmeans_89.labels_\n",
    "\n",
    "print(\"Purity score of clusters formed by 89% var is: \",purity_score_(Class,labels_89))\n",
    "\n",
    "purity_89 = purity_score_(Class,labels_89)\n",
    "\n",
    "\n",
    "print('-'*50)\n",
    "\n",
    "\n",
    "\n",
    "#At 99%\n",
    "kmeans_99 = KMeans(n_clusters = 3).fit(pca_99)\n",
    "labels_99  = kmeans_99.labels_\n",
    "\n",
    "print(labels_99)\n",
    "print(\"Purity score of clusters formed by 99% var is: \",purity_score_(Class,labels_99))\n",
    "\n",
    "purity_99 = purity_score_(Class,labels_99)\n",
    "\n",
    "y = [89, 99]\n",
    "X = [purity_89, purity_99]\n",
    "\n",
    "plt.plot(X, y)\n",
    "plt.xlabel(\"Captured variance\")\n",
    "plt.ylabel(\"Purity\")\n",
    "plt.show()\n",
    "\n",
    "print('from the graph we can determine the purity score is high with the captured variance, so that we can see at 99% variance the purity is highest at 91.9% and therefore we can use the highest variance of 99% for the hghest purity scores')\n",
    "\n",
    "\n"
   ]
  },
  {
   "cell_type": "markdown",
   "metadata": {
    "colab_type": "text",
    "id": "8RmhzV_MK-ia"
   },
   "source": [
    "3. Let's assume you have two datasets one is linear and another is curved structural data.\n",
    "    - Can we apply PCA on these datasets? Justify your answer. __(3 marks)__ "
   ]
  },
  {
   "cell_type": "code",
   "execution_count": 237,
   "metadata": {
    "colab": {},
    "colab_type": "code",
    "id": "_9NpVDBwKqD-"
   },
   "outputs": [
    {
     "data": {
      "text/plain": [
       "'\\nPCA works optimally only in the situation where the correlations are linear, \\nwhich is most of the time an approximation. According to a review on Dimensionality reduction, \\nTraditionally, dimensionality reduction was performed using linear techniques such as \\nPrincipal Components Analysis (PCA) and factor analysis. However, these linear techniques on dimensionality reduction\\ncannot adequately handle complex nonlinear data, but the non linear techniques to handle non linear data which were developed later. \\n\\nkernal pca function can be used on non linear data. (rbf_kernel_pca(X, gamma=15, n_components=2) or by using sklearn library)\\nTherefore pca can be used on linear and non linear data. \\n \\n\\n'"
      ]
     },
     "execution_count": 237,
     "metadata": {},
     "output_type": "execute_result"
    }
   ],
   "source": [
    "#https://www.researchgate.net/post/What_happens_if_PCA_Principal_Component_Analysis_is_applied_on_nonlinear_data\n",
    "#https://medium.com/@ODSC/implementing-a-kernel-principal-component-analysis-in-python-495f04a7f85f\n",
    "'''\n",
    "PCA works optimally only in the situation where the correlations are linear, \n",
    "which is most of the time an approximation. According to a review on Dimensionality reduction, \n",
    "Traditionally, dimensionality reduction was performed using linear techniques such as \n",
    "Principal Components Analysis (PCA) and factor analysis. However, these linear techniques on dimensionality reduction\n",
    "cannot adequately handle complex nonlinear data, but the non linear techniques to handle non linear data which were developed later. \n",
    "\n",
    "kernal pca function can be used on non linear data. (rbf_kernel_pca(X, gamma=15, n_components=2) or by using sklearn library)\n",
    "Therefore pca can be used on linear and non linear data. \n",
    " \n",
    "\n",
    "'''"
   ]
  },
  {
   "cell_type": "code",
   "execution_count": null,
   "metadata": {},
   "outputs": [],
   "source": []
  },
  {
   "cell_type": "code",
   "execution_count": null,
   "metadata": {},
   "outputs": [],
   "source": []
  }
 ],
 "metadata": {
  "colab": {
   "collapsed_sections": [],
   "name": "A2.ipynb",
   "provenance": [],
   "toc_visible": true
  },
  "kernelspec": {
   "display_name": "Python 3",
   "language": "python",
   "name": "python3"
  },
  "language_info": {
   "codemirror_mode": {
    "name": "ipython",
    "version": 3
   },
   "file_extension": ".py",
   "mimetype": "text/x-python",
   "name": "python",
   "nbconvert_exporter": "python",
   "pygments_lexer": "ipython3",
   "version": "3.7.6"
  }
 },
 "nbformat": 4,
 "nbformat_minor": 1
}
